{
 "cells": [
  {
   "cell_type": "markdown",
   "metadata": {},
   "source": [
    "### U4 Supervise Learning\n",
    "* Labeled data\n",
    "    * the dataset has an attribute (called \"class\" or \"target\")\n",
    "    that you are interested in predicting for unseen instances\n",
    "    * if the attribute is *categorical*, then this is a \n",
    "    *classification* task\n",
    "    * if the attribute is *continuous*/numeric, then this is a \n",
    "    *regression* task\n",
    "    * ex:\n",
    "        * fit a line y = mx + b to \"training data\"\n",
    "        * m and b are parameters that are learned from the training data\n",
    "        * we can make predictions with this\n",
    "\n",
    "* Supervise ML\n",
    "    * works with labeled data\n",
    "    * classes:\n",
    "        * MySimpleLinearRegressor\n",
    "        * MySimpleLinearClassifier\n",
    "        * MyDummyClassifier\n",
    "        * MyKNeighborsClassifier\n",
    "        * MyNaiveBayesClassifier\n",
    "        * MyDecisionTreeClassifier\n",
    "        * MyRandomForestClassifier\n",
    "\n",
    "* Unsupervised ML\n",
    "    * works with unlabeled data\n",
    "    * no attribute you want to predict\n",
    "    * classes\n",
    "        * MyAssociationRuleMiner\n",
    "        * MyKMeansClusterer \n",
    "        "
   ]
  }
 ],
 "metadata": {
  "kernelspec": {
   "display_name": "Python 3.9.12 ('base')",
   "language": "python",
   "name": "python3"
  },
  "language_info": {
   "name": "python",
   "version": "3.9.12"
  },
  "orig_nbformat": 4,
  "vscode": {
   "interpreter": {
    "hash": "d4d1e4263499bec80672ea0156c357c1ee493ec2b1c70f0acce89fc37c4a6abe"
   }
  }
 },
 "nbformat": 4,
 "nbformat_minor": 2
}
