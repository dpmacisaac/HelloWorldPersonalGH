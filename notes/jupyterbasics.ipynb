{
 "cells": [
  {
   "cell_type": "markdown",
   "metadata": {},
   "source": [
    "\n",
    "Jupyter notebook basics"
   ]
  },
  {
   "cell_type": "code",
   "execution_count": 1,
   "metadata": {},
   "outputs": [
    {
     "name": "stdout",
     "output_type": "stream",
     "text": [
      "ello\n"
     ]
    }
   ],
   "source": [
    "print(\"ello\")"
   ]
  },
  {
   "cell_type": "markdown",
   "metadata": {},
   "source": [
    "esc - move mode \n",
    "\n",
    "enter - edit mode\n",
    "\n",
    "b - new box\n",
    "\n",
    "m - markdown box\n",
    "\n",
    "y - code box"
   ]
  },
  {
   "cell_type": "markdown",
   "metadata": {},
   "source": [
    "## Lists:\n",
    "1. Item 1\n",
    "1. Item 2\n",
    "\n",
    "* Item A\n",
    "* Item B\n",
    "\n",
    "Nesting \n",
    "* Ways to nest\n",
    "    1. use tabs\n",
    "    2. eat\n",
    "    \n"
   ]
  },
  {
   "cell_type": "markdown",
   "metadata": {},
   "source": [
    "## Links and Images\n",
    "[Cool Guy in here](https://external-content.duckduckgo.com/iu/?u=https%3A%2F%2Fi.ytimg.com%2Fvi%2FLOCD0kxtN6g%2Fmaxresdefault.jpg&f=1&nofb=1&ipt=7a34255bb2b83c48e5b43abc5d5355fd0e08eacad2c38fa8616a3eff8314f75e&ipo=images)\n",
    "\n",
    "Or you can see him right here :)\n",
    "\n",
    "\n",
    "<img src = \"https://external-content.duckduckgo.com/iu/?u=https%3A%2F%2Fi.ytimg.com%2Fvi%2FLOCD0kxtN6g%2Fmaxresdefault.jpg&f=1&nofb=1&ipt=7a34255bb2b83c48e5b43abc5d5355fd0e08eacad2c38fa8616a3eff8314f75e&ipo=images\" width='300'/>\n",
    "<img src = \"https://external-content.duckduckgo.com/iu/?u=https%3A%2F%2Fi.ytimg.com%2Fvi%2FLOCD0kxtN6g%2Fmaxresdefault.jpg&f=1&nofb=1&ipt=7a34255bb2b83c48e5b43abc5d5355fd0e08eacad2c38fa8616a3eff8314f75e&ipo=images\" width='300'/>\n",
    "<img src = \"https://external-content.duckduckgo.com/iu/?u=https%3A%2F%2Fi.ytimg.com%2Fvi%2FLOCD0kxtN6g%2Fmaxresdefault.jpg&f=1&nofb=1&ipt=7a34255bb2b83c48e5b43abc5d5355fd0e08eacad2c38fa8616a3eff8314f75e&ipo=images\" width='300'/>\n",
    "<img src = \"https://external-content.duckduckgo.com/iu/?u=https%3A%2F%2Fi.ytimg.com%2Fvi%2FLOCD0kxtN6g%2Fmaxresdefault.jpg&f=1&nofb=1&ipt=7a34255bb2b83c48e5b43abc5d5355fd0e08eacad2c38fa8616a3eff8314f75e&ipo=images\" width='300'/>\n",
    "\n",
    "![coolguy](https://external-content.duckduckgo.com/iu/?u=https%3A%2F%2Fi.ytimg.com%2Fvi%2FLOCD0kxtN6g%2Fmaxresdefault.jpg&f=1&nofb=1&ipt=7a34255bb2b83c48e5b43abc5d5355fd0e08eacad2c38fa8616a3eff8314f75e&ipo=images)\n",
    "\n",
    "\n",
    "<img src = \"https://external-content.duckduckgo.com/iu/?u=https%3A%2F%2Fi.ytimg.com%2Fvi%2FLOCD0kxtN6g%2Fmaxresdefault.jpg&f=1&nofb=1&ipt=7a34255bb2b83c48e5b43abc5d5355fd0e08eacad2c38fa8616a3eff8314f75e&ipo=images\" width='300'/>\n",
    "<img src = \"https://external-content.duckduckgo.com/iu/?u=https%3A%2F%2Fi.ytimg.com%2Fvi%2FLOCD0kxtN6g%2Fmaxresdefault.jpg&f=1&nofb=1&ipt=7a34255bb2b83c48e5b43abc5d5355fd0e08eacad2c38fa8616a3eff8314f75e&ipo=images\" width='300'/>\n",
    "<img src = \"https://external-content.duckduckgo.com/iu/?u=https%3A%2F%2Fi.ytimg.com%2Fvi%2FLOCD0kxtN6g%2Fmaxresdefault.jpg&f=1&nofb=1&ipt=7a34255bb2b83c48e5b43abc5d5355fd0e08eacad2c38fa8616a3eff8314f75e&ipo=images\" width='300'/>\n",
    "<img src = \"https://external-content.duckduckgo.com/iu/?u=https%3A%2F%2Fi.ytimg.com%2Fvi%2FLOCD0kxtN6g%2Fmaxresdefault.jpg&f=1&nofb=1&ipt=7a34255bb2b83c48e5b43abc5d5355fd0e08eacad2c38fa8616a3eff8314f75e&ipo=images\" width='300'/>\n"
   ]
  },
  {
   "cell_type": "markdown",
   "metadata": {},
   "source": [
    "## Tables\n",
    "CarName|ModelYear|MSRP\n",
    "-|-|-\n",
    "sienna|2005|yes\n",
    "anakin|2008|perhaps"
   ]
  },
  {
   "cell_type": "code",
   "execution_count": 2,
   "metadata": {},
   "outputs": [
    {
     "name": "stdout",
     "output_type": "stream",
     "text": [
      "Done!\n"
     ]
    }
   ],
   "source": [
    "print(\"Done!\")"
   ]
  },
  {
   "cell_type": "markdown",
   "metadata": {},
   "source": [
    "## Time for utils.py"
   ]
  },
  {
   "cell_type": "code",
   "execution_count": 5,
   "metadata": {},
   "outputs": [
    {
     "name": "stdout",
     "output_type": "stream",
     "text": [
      "228 dummies\n"
     ]
    }
   ],
   "source": [
    "import utils\n",
    "# to force a restart for a module {\n",
    "import importlib\n",
    "importlib.reload(utils)\n",
    "# }\n",
    "x = 12\n",
    "utils.dummy_def(x)"
   ]
  }
 ],
 "metadata": {
  "kernelspec": {
   "display_name": "Python 3.9.12 ('base')",
   "language": "python",
   "name": "python3"
  },
  "language_info": {
   "codemirror_mode": {
    "name": "ipython",
    "version": 3
   },
   "file_extension": ".py",
   "mimetype": "text/x-python",
   "name": "python",
   "nbconvert_exporter": "python",
   "pygments_lexer": "ipython3",
   "version": "3.9.12"
  },
  "orig_nbformat": 4,
  "vscode": {
   "interpreter": {
    "hash": "d4d1e4263499bec80672ea0156c357c1ee493ec2b1c70f0acce89fc37c4a6abe"
   }
  }
 },
 "nbformat": 4,
 "nbformat_minor": 2
}
